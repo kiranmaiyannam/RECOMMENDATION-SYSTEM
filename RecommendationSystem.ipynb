{
  "nbformat": 4,
  "nbformat_minor": 0,
  "metadata": {
    "colab": {
      "provenance": []
    },
    "kernelspec": {
      "name": "python3",
      "display_name": "Python 3"
    },
    "language_info": {
      "name": "python"
    }
  },
  "cells": [
    {
      "cell_type": "code",
      "source": [
        "!pip install \"numpy<2\"\n"
      ],
      "metadata": {
        "colab": {
          "base_uri": "https://localhost:8080/",
          "height": 356
        },
        "id": "w_sQMeU0ZDqe",
        "outputId": "7104c8a6-4c28-416e-8754-49343dc318d0"
      },
      "execution_count": 8,
      "outputs": [
        {
          "output_type": "stream",
          "name": "stdout",
          "text": [
            "Collecting numpy<2\n",
            "  Downloading numpy-1.26.4-cp311-cp311-manylinux_2_17_x86_64.manylinux2014_x86_64.whl.metadata (61 kB)\n",
            "\u001b[?25l     \u001b[90m━━━━━━━━━━━━━━━━━━━━━━━━━━━━━━━━━━━━━━━━\u001b[0m \u001b[32m0.0/61.0 kB\u001b[0m \u001b[31m?\u001b[0m eta \u001b[36m-:--:--\u001b[0m\r\u001b[2K     \u001b[90m━━━━━━━━━━━━━━━━━━━━━━━━━━━━━━━━━━━━━━━━\u001b[0m \u001b[32m61.0/61.0 kB\u001b[0m \u001b[31m3.5 MB/s\u001b[0m eta \u001b[36m0:00:00\u001b[0m\n",
            "\u001b[?25hDownloading numpy-1.26.4-cp311-cp311-manylinux_2_17_x86_64.manylinux2014_x86_64.whl (18.3 MB)\n",
            "\u001b[2K   \u001b[90m━━━━━━━━━━━━━━━━━━━━━━━━━━━━━━━━━━━━━━━━\u001b[0m \u001b[32m18.3/18.3 MB\u001b[0m \u001b[31m95.7 MB/s\u001b[0m eta \u001b[36m0:00:00\u001b[0m\n",
            "\u001b[?25hInstalling collected packages: numpy\n",
            "  Attempting uninstall: numpy\n",
            "    Found existing installation: numpy 2.0.2\n",
            "    Uninstalling numpy-2.0.2:\n",
            "      Successfully uninstalled numpy-2.0.2\n",
            "\u001b[31mERROR: pip's dependency resolver does not currently take into account all the packages that are installed. This behaviour is the source of the following dependency conflicts.\n",
            "thinc 8.3.6 requires numpy<3.0.0,>=2.0.0, but you have numpy 1.26.4 which is incompatible.\u001b[0m\u001b[31m\n",
            "\u001b[0mSuccessfully installed numpy-1.26.4\n"
          ]
        },
        {
          "output_type": "display_data",
          "data": {
            "application/vnd.colab-display-data+json": {
              "pip_warning": {
                "packages": [
                  "numpy"
                ]
              },
              "id": "d7cf4dfe97f0445e9b094d09cb19a818"
            }
          },
          "metadata": {}
        }
      ]
    },
    {
      "cell_type": "code",
      "execution_count": 2,
      "metadata": {
        "colab": {
          "base_uri": "https://localhost:8080/"
        },
        "id": "kSPjO6-AUhxo",
        "outputId": "5401f534-8509-4e3b-b9af-01f6ea540f6c"
      },
      "outputs": [
        {
          "output_type": "stream",
          "name": "stdout",
          "text": [
            "RMSE: 0.9392\n",
            "MAE:  0.7383\n",
            "Recommend Item 603 with predicted rating: 4.61\n",
            "Recommend Item 178 with predicted rating: 4.59\n",
            "Recommend Item 520 with predicted rating: 4.54\n",
            "Recommend Item 64 with predicted rating: 4.50\n",
            "Recommend Item 190 with predicted rating: 4.50\n"
          ]
        }
      ],
      "source": [
        "from surprise import Dataset, Reader, SVD\n",
        "from surprise.model_selection import train_test_split, cross_validate\n",
        "from surprise import accuracy\n",
        "import pandas as pd\n",
        "# Load built-in MovieLens 100k dataset\n",
        "data = Dataset.load_builtin('ml-100k')  # UserID, ItemID, Rating\n",
        "\n",
        "# Define train-test split\n",
        "trainset, testset = train_test_split(data, test_size=0.2, random_state=42)\n",
        "# Use Matrix Factorization (SVD)\n",
        "model = SVD()\n",
        "\n",
        "# Train the model\n",
        "model.fit(trainset)\n",
        "# Predict on test data\n",
        "predictions = model.test(testset)\n",
        "\n",
        "# Calculate metrics\n",
        "rmse = accuracy.rmse(predictions)\n",
        "mae = accuracy.mae(predictions)\n",
        "# Get list of all items from the testset for simplicity in this example\n",
        "all_items = set([item for (_, item, _) in testset])\n",
        "\n",
        "user_id = '196'  # Example user\n",
        "\n",
        "# Get inner user ID\n",
        "inner_user_id = trainset.to_inner_uid(user_id)\n",
        "\n",
        "# Items user has already rated (inner item IDs)\n",
        "rated_items_inner = set([item_id for (item_id, _) in trainset.ur[inner_user_id]])\n",
        "\n",
        "# Get all inner item IDs in the trainset\n",
        "all_trainset_items_inner = set([item for (_, item, _) in trainset.all_ratings()])\n",
        "\n",
        "# Items not yet rated by the user (inner item IDs) that are also in the training set\n",
        "unrated_items_inner = list(all_trainset_items_inner - rated_items_inner)\n",
        "\n",
        "\n",
        "# Convert inner item IDs back to raw item IDs for prediction if needed,\n",
        "# but predict takes inner IDs.\n",
        "# For prediction, we will use the inner item IDs directly.\n",
        "\n",
        "# Predict ratings for unrated items (using inner item IDs)\n",
        "predictions = [model.predict(user_id, trainset.to_raw_iid(item_inner_id)) for item_inner_id in unrated_items_inner]\n",
        "\n",
        "\n",
        "# Sort by highest estimated rating\n",
        "top_recs = sorted(predictions, key=lambda x: x.est, reverse=True)[:5]\n",
        "\n",
        "# Show top 5 recommendations\n",
        "for rec in top_recs:\n",
        "    print(f\"Recommend Item {rec.iid} with predicted rating: {rec.est:.2f}\")"
      ]
    }
  ]
}